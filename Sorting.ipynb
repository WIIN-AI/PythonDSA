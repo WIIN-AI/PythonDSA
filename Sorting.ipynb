{
 "cells": [
  {
   "cell_type": "markdown",
   "id": "c9e4d334",
   "metadata": {},
   "source": [
    "## Bubble Sort\n",
    "- Bubble Sort is a simple sorting algorithm that works by repeatedly swapping adjacent elements if they are in the wrong order. Here is the implementation of Bubble Sort in Python:\n",
    "- Note: The function first determines the length of the list n, then iterates over the list using two nested loops. The outer loop iterates over the list n times, while the inner loop iterates over the unsorted part of the list. The inner loop compares adjacent elements and swaps them if they are in the wrong order"
   ]
  },
  {
   "cell_type": "code",
   "execution_count": 5,
   "id": "531cf6d8",
   "metadata": {},
   "outputs": [
    {
     "name": "stdout",
     "output_type": "stream",
     "text": [
      "[1, 2, 3, 4, 7]\n"
     ]
    }
   ],
   "source": [
    "def bubble_sort(arr):\n",
    "    n = len(arr)\n",
    "    for i in range(n):\n",
    "        for j in range(0,n-i-1):\n",
    "            if arr[j] > arr[j+1]:\n",
    "                arr[j], arr[j+1] = arr[j+1], arr[j]\n",
    "    return arr\n",
    "\n",
    "# Example usage\n",
    "lst = [4, 2, 7, 1, 3]\n",
    "lst=bubble_sort(lst)\n",
    "print(lst)"
   ]
  },
  {
   "cell_type": "markdown",
   "id": "d88d34d8",
   "metadata": {},
   "source": [
    "## Quick Sort \n",
    "-  fast sorting algorithm that works by selecting a pivot element from the list and partitioning the list into two sub-lists, one with elements smaller than the pivot and one with elements greater than the pivot\n",
    "- Note: The function first checks if the length of the list is less than or equal to 1, in which case it returns the list as-is. Otherwise, it selects the first element of the list as the pivot element, partitions the list into two sub-lists using list comprehensions, and recursively sorts each sub-list using Quick Sort. Finally, the function combines the sorted sub-lists with the pivot element to create the final sorted list."
   ]
  },
  {
   "cell_type": "code",
   "execution_count": 2,
   "id": "dfa153b1",
   "metadata": {},
   "outputs": [],
   "source": [
    "def quick_sort(arr):\n",
    "    if len(arr) <= 1:\n",
    "        return arr\n",
    "    else:\n",
    "        pivot = arr[0]\n",
    "        left = [x for x in arr[1:] if x <= pivot]\n",
    "        right = [x for x in arr[1:] if x > pivot]\n",
    "        return quick_sort(left) + [pivot] + quick_sort(right)"
   ]
  },
  {
   "cell_type": "markdown",
   "id": "5b3b828a",
   "metadata": {},
   "source": [
    "## Merge Sort \n",
    "- Merge Sort  uses recursion to sort the list. It first divides the list into two halves, and then recursively sorts each half. Once the two halves are sorted, they are merged together to form the final sorted list."
   ]
  },
  {
   "cell_type": "code",
   "execution_count": 3,
   "id": "21b611ce",
   "metadata": {},
   "outputs": [
    {
     "name": "stdout",
     "output_type": "stream",
     "text": [
      "[1, 2, 3, 4, 5, 6, 7, 8]\n"
     ]
    }
   ],
   "source": [
    "def merge_sort(arr):\n",
    "    if len(arr) <= 1:\n",
    "        return arr\n",
    "\n",
    "    middle = len(arr) // 2\n",
    "    left_half = arr[:middle]\n",
    "    right_half = arr[middle:]\n",
    "\n",
    "    left_half = merge_sort(left_half)\n",
    "    right_half = merge_sort(right_half)\n",
    "\n",
    "    return merge(left_half, right_half)\n",
    "\n",
    "def merge(left_half, right_half):\n",
    "    result = []\n",
    "    left_index, right_index = 0, 0\n",
    "\n",
    "    while left_index < len(left_half) and right_index < len(right_half):\n",
    "        if left_half[left_index] < right_half[right_index]:\n",
    "            result.append(left_half[left_index])\n",
    "            left_index += 1\n",
    "        else:\n",
    "            result.append(right_half[right_index])\n",
    "            right_index += 1\n",
    "\n",
    "    result += left_half[left_index:]\n",
    "    result += right_half[right_index:]\n",
    "\n",
    "    return result\n",
    "\n",
    "arr = [5, 3, 8, 6, 2, 7, 1, 4]\n",
    "sorted_arr = merge_sort(arr)\n",
    "print(sorted_arr)"
   ]
  },
  {
   "cell_type": "markdown",
   "id": "5157d145",
   "metadata": {},
   "source": [
    "##  Selection Sort\n",
    "#### Selection Sort is a simple sorting algorithm that works by repeatedly finding the minimum element from the unsorted part of a list and placing it at the beginning of the sorted part of the list.\n",
    "\n",
    "- Suppose we have the following list of integers: [3, 1, 4, 2, 5].\n",
    "- We start by considering the first element of the list, which is 3. We assume that this element is the minimum element.\n",
    "- We then compare this element with the remaining elements in the list (1, 4, 2, and 5) to find the actual minimum element. In this case, we find that 1 is the minimum element.\n",
    "- We swap the first element (3) with the minimum element (1), so the list becomes [1, 3, 4, 2, 5].\n",
    "- We now consider the second element of the list (3) as the minimum element and repeat the same process as above.\n",
    "- We compare 3 with the remaining elements in the list (4, 2, and 5) and find that 2 is the minimum element.\n",
    "- We swap the second element (3) with the minimum element (2), so the list becomes [1, 2, 4, 3, 5].\n",
    "- We repeat the same process for the third element (4) and find that 3 is the minimum element.\n",
    "- We swap the third element (4) with the minimum element (3), so the list becomes [1, 2, 3, 4, 5].\n",
    "- The fourth and fifth elements of the list (4 and 5) are already in the correct position, so the algorithm ends.\n",
    "\n",
    "\n",
    "\n",
    "In this implementation, we define a function called selection_sort that takes a list lst as an argument. The function starts by getting the length of the list and then iterating through it using a for loop.\n",
    "\n",
    "In the inner loop, we compare each element of the list with the remaining elements to find the minimum element. We keep track of the index of the minimum element and swap it with the current element if necessary.\n",
    "\n",
    "Finally, we return the sorted list."
   ]
  },
  {
   "cell_type": "code",
   "execution_count": 6,
   "id": "571ad91d",
   "metadata": {},
   "outputs": [
    {
     "name": "stdout",
     "output_type": "stream",
     "text": [
      "[1, 2, 3, 4, 5, 6, 7, 8]\n"
     ]
    }
   ],
   "source": [
    "def selection_sort(lst):\n",
    "    n = len(lst)\n",
    "    for i in range(n):\n",
    "        min_index = i\n",
    "        for j in range(i+1, n):\n",
    "            if lst[j] < lst[min_index]:\n",
    "                min_index = j\n",
    "        lst[i], lst[min_index] = lst[min_index], lst[i]\n",
    "    return lst\n",
    "\n",
    "arr = [5, 3, 8, 6, 2, 7, 1, 4]\n",
    "sorted_arr = selection_sort(arr)\n",
    "print(sorted_arr)"
   ]
  },
  {
   "cell_type": "markdown",
   "id": "9975cce7",
   "metadata": {},
   "source": [
    "###  Insertion Sort\n",
    "- Insertion Sort is another simple sorting algorithm that works by dividing the list into two parts: the sorted part and the unsorted part. Initially, the sorted part is just the first element of the list, and the unsorted part is the rest of the list. The algorithm then takes one element from the unsorted part of the list at a time and inserts it into the correct position in the sorted part of the list.\n",
    "\n",
    "##### Here's an example of how Insertion Sort works:\n",
    "\n",
    "- Suppose we have the following list of integers: [3, 1, 4, 2, 5].\n",
    "\n",
    "- We start with the first element of the list, which is already in the sorted part of the list.\n",
    "\n",
    "- We then take the second element of the list (1) and compare it with the first element (3) in the sorted part of the list. Since 1 is smaller than 3, we move 3 to the right and insert 1 in its correct position. The list becomes [1, 3, 4, 2, 5].\n",
    "\n",
    "- We now take the third element of the list (4) and insert it into the correct position in the sorted part of the list. Since 4 is greater than 1 and 3, it stays in its current position. The list becomes [1, 3, 4, 2, 5].\n",
    "\n",
    "- We repeat the same process for the fourth element of the list (2). We compare it with the elements in the sorted part of the list (1, 3, and 4) and find that it should be inserted before 3. The list becomes [1, 2, 3, 4, 5].\n",
    "\n",
    "- Finally, we repeat the same process for the fifth element of the list (5). We compare it with the elements in the sorted part of the list (1, 2, 3, and 4) and find that it should be inserted after 4. The list becomes [1, 2, 3, 4, 5]."
   ]
  },
  {
   "cell_type": "code",
   "execution_count": 7,
   "id": "d019d798",
   "metadata": {},
   "outputs": [],
   "source": [
    "def insertion_sort(lst):\n",
    "    n = len(lst)\n",
    "    for i in range(1, n):\n",
    "        current = lst[i]\n",
    "        j = i - 1\n",
    "        while j >= 0 and lst[j] > current:\n",
    "            lst[j+1] = lst[j]\n",
    "            j -= 1\n",
    "        lst[j+1] = current\n",
    "    return lst"
   ]
  },
  {
   "cell_type": "markdown",
   "id": "60ce1102",
   "metadata": {},
   "source": [
    "Sure! Here's a table that summarizes the time complexity of the five sorting algorithms we discussed earlier:\n",
    "\n",
    "| Algorithm | Best-case time complexity | Average-case time complexity | Worst-case time complexity | Space complexity |\n",
    "|-----------|--------------------------|-------------------------------|---------------------------|------------------|\n",
    "| Bubble Sort | O(n) | O(n^2) | O(n^2) | O(1) |\n",
    "| Selection Sort | O(n^2) | O(n^2) | O(n^2) | O(1) |\n",
    "| Insertion Sort | O(n) | O(n^2) | O(n^2) | O(1) |\n",
    "| Merge Sort | O(n log n) | O(n log n) | O(n log n) | O(n) |\n",
    "| Quick Sort | O(n log n) | O(n log n) | O(n^2) | O(log n) |\n",
    "\n",
    "Note that the time complexity of each algorithm depends on the number of elements in the list (`n`). The space complexity refers to the amount of extra space (in memory) needed to execute the algorithm."
   ]
  },
  {
   "cell_type": "code",
   "execution_count": 7,
   "id": "39900d21",
   "metadata": {},
   "outputs": [
    {
     "data": {
      "text/plain": [
       "1"
      ]
     },
     "execution_count": 7,
     "metadata": {},
     "output_type": "execute_result"
    }
   ],
   "source": [
    "len(str(7))"
   ]
  },
  {
   "cell_type": "code",
   "execution_count": 22,
   "id": "08fc8afa",
   "metadata": {},
   "outputs": [
    {
     "data": {
      "text/plain": [
       "51"
      ]
     },
     "execution_count": 22,
     "metadata": {},
     "output_type": "execute_result"
    }
   ],
   "source": [
    "#71 % 2\n",
    "-51*-1"
   ]
  },
  {
   "cell_type": "code",
   "execution_count": null,
   "id": "52edc9d2",
   "metadata": {},
   "outputs": [],
   "source": [
    "# Find the even number of digits \n",
    "# function to check the even digit or not ? \n",
    "# n = n/10 \n",
    "# cout % 2 == 0 > event number \n",
    "# make it postive number if number is negative -> number* -1"
   ]
  },
  {
   "cell_type": "markdown",
   "id": "18d4e7a5",
   "metadata": {},
   "source": [
    "### 69. Sqrt(x)\n",
    "- Given a non-negative integer x, return the square root of x rounded down to the nearest integer. The returned integer should be non-negative as well.\n",
    "\n",
    "- You must not use any built-in exponent function or operator.\n",
    "- For example, do not use pow(x, 0.5) in c++ or x ** 0.5 in python.\n",
    " \n",
    "##### Example 1:\n",
    "\n",
    "- Input: x = 4\n",
    "- Output: 2\n",
    "- Explanation: The square root of 4 is 2, so we return 2."
   ]
  },
  {
   "cell_type": "code",
   "execution_count": 20,
   "id": "90b40398",
   "metadata": {},
   "outputs": [
    {
     "name": "stdout",
     "output_type": "stream",
     "text": [
      "2\n",
      "0\n",
      "1\n",
      "2\n",
      "None\n"
     ]
    }
   ],
   "source": [
    "y = 5\n",
    "def squre_val(x):\n",
    "    mid_val = int(x/2)\n",
    "    print(mid_val)\n",
    "    for i in range(mid_val+1):\n",
    "        print(i)\n",
    "        if i*i == int(x) :\n",
    "            return i\n",
    "        else:\n",
    "            if i*i > x : \n",
    "                return i-1\n",
    "    \n",
    "print(squre_val(y))"
   ]
  },
  {
   "cell_type": "code",
   "execution_count": 10,
   "id": "dd4da19a",
   "metadata": {},
   "outputs": [
    {
     "name": "stdout",
     "output_type": "stream",
     "text": [
      "2\n"
     ]
    }
   ],
   "source": [
    "def mySqrt(x: int) -> int:\n",
    "        low = 0\n",
    "        high = x\n",
    "        \n",
    "        while low <= high:\n",
    "            mid = (low + high) // 2\n",
    "            sqr = mid * mid\n",
    "            if sqr == x or (sqr < x and (mid + 1) * (mid + 1) > x):\n",
    "                return mid\n",
    "            \n",
    "            elif sqr > x:\n",
    "                high = mid - 1\n",
    "                \n",
    "            else:\n",
    "                low = mid + 1\n",
    "\n",
    "print(mySqrt(8))"
   ]
  },
  {
   "cell_type": "markdown",
   "id": "7172c29b",
   "metadata": {},
   "source": [
    "### 1672. Richest Customer Wealth\n",
    "You are given an m x n integer grid accounts where accounts[i][j] is the amount of money the i​​​​​​​​​​​th​​​​ customer has in the j​​​​​​​​​​​th​​​​ bank. Return the wealth that the richest customer has.\n",
    "\n",
    "A customer's wealth is the amount of money they have in all their bank accounts. The richest customer is the customer that has the maximum wealth.\n",
    "\n",
    " \n",
    "\n",
    "Example 1:\n",
    "\n",
    "- `Iput: accounts = [[1,2,3],[3,2,1]]`\n",
    "- output: 6\n",
    "- Explanation:\n",
    "- 1st customer has wealth = 1 + 2 + 3 = 6\n",
    "- 2nd customer has wealth = 3 + 2 + 1 = 6\n",
    "- Both customers are considered the richest with a wealth of 6 each, so return 6."
   ]
  },
  {
   "cell_type": "code",
   "execution_count": 29,
   "id": "1c34837d",
   "metadata": {},
   "outputs": [
    {
     "name": "stdout",
     "output_type": "stream",
     "text": [
      "6\n",
      "10\n",
      "8\n",
      "10\n"
     ]
    }
   ],
   "source": [
    "# https://leetcode.com/problems/richest-customer-wealth/\n",
    "\n",
    "class Solution(object):\n",
    "    def maximumWealth(self, accounts):\n",
    "        \"\"\"\n",
    "        :type accounts: List[List[int]]\n",
    "        :rtype: int\n",
    "        \"\"\"\n",
    "        min_account = sum(accounts[1])\n",
    "        max_account = 0\n",
    "        for account in accounts :\n",
    "#             for wealth in accounts:\n",
    "            sum_val = sum(account)\n",
    "            print(sum_val)\n",
    "            if  max_account < sum_val  : \n",
    "                max_account = sum_val\n",
    "            if sum_val < min_account : \n",
    "                min_account = sum_val\n",
    "        return max_account\n",
    "\n",
    "accs_ = [[1,2,4],[3,2,1]]\n",
    "accounts = [[1,5],[7,3],[3,5]]\n",
    "print(Solution().maximumWealth(accounts))"
   ]
  },
  {
   "cell_type": "code",
   "execution_count": null,
   "id": "3bc15909",
   "metadata": {},
   "outputs": [],
   "source": []
  }
 ],
 "metadata": {
  "kernelspec": {
   "display_name": "Python 3 (ipykernel)",
   "language": "python",
   "name": "python3"
  },
  "language_info": {
   "codemirror_mode": {
    "name": "ipython",
    "version": 3
   },
   "file_extension": ".py",
   "mimetype": "text/x-python",
   "name": "python",
   "nbconvert_exporter": "python",
   "pygments_lexer": "ipython3",
   "version": "3.9.9"
  }
 },
 "nbformat": 4,
 "nbformat_minor": 5
}
